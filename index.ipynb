{
 "cells": [
  {
   "cell_type": "code",
   "execution_count": 2,
   "metadata": {},
   "outputs": [],
   "source": [
    "import json\n",
    "import logging\n",
    "from pathlib import Path\n",
    "import random\n",
    "import tarfile\n",
    "import tempfile\n",
    "import warnings\n",
    "\n",
    "import matplotlib.pyplot as plt\n",
    "import numpy as np\n",
    "import pandas as pd\n",
    "# import pandas_path  # Path style access for pandas\n",
    "from tqdm import tqdm\n",
    "\n",
    "import os\n",
    "\n",
    "import torch                    \n",
    "import torchvision\n",
    "import fasttext"
   ]
  },
  {
   "cell_type": "code",
   "execution_count": 34,
   "metadata": {},
   "outputs": [],
   "source": [
    "path = os.getcwd()\n",
    "df = pd.read_json(path + '/MMHS150K/MMHS150K_GT.json', orient='index')"
   ]
  },
  {
   "cell_type": "code",
   "execution_count": 35,
   "metadata": {},
   "outputs": [],
   "source": [
    "# labels: 0 - NotHate, 1 - Racist, 2 - Sexist, 3 - Homophobe, 4 - Religion, 5 - OtherHate\n",
    "\n",
    "# extract tweet id from tweet url\n",
    "df['tweet_id'] = df['tweet_url'].apply(lambda x: x.split('/')[-1])\n",
    "\n",
    "# create a new column for each label\n",
    "df['is_hateful'] = df['labels'].apply(lambda x: bool(x))\n",
    "# create a new column for each label\n",
    "df['is_racist'] = df['labels'].apply(lambda x: 1 in x)\n",
    "df['is_sexist'] = df['labels'].apply(lambda x: 2 in x)\n",
    "df['is_homophobe'] = df['labels'].apply(lambda x: 3 in x)\n",
    "df['is_religion'] = df['labels'].apply(lambda x: 4 in x)\n",
    "df['is_other_hate'] = df['labels'].apply(lambda x: 5 in x)\n",
    "\n",
    "# remove the labels column\n",
    "df = df.drop(columns=['labels'])\n",
    "# remove the labels_str column\n",
    "df = df.drop(columns=['labels_str'])\n",
    "\n",
    "# reset index => remove date and get a new index\n",
    "df = df.reset_index(drop=True)"
   ]
  },
  {
   "cell_type": "code",
   "execution_count": 36,
   "metadata": {},
   "outputs": [
    {
     "data": {
      "text/html": [
       "<div>\n",
       "<style scoped>\n",
       "    .dataframe tbody tr th:only-of-type {\n",
       "        vertical-align: middle;\n",
       "    }\n",
       "\n",
       "    .dataframe tbody tr th {\n",
       "        vertical-align: top;\n",
       "    }\n",
       "\n",
       "    .dataframe thead th {\n",
       "        text-align: right;\n",
       "    }\n",
       "</style>\n",
       "<table border=\"1\" class=\"dataframe\">\n",
       "  <thead>\n",
       "    <tr style=\"text-align: right;\">\n",
       "      <th></th>\n",
       "      <th>img_url</th>\n",
       "      <th>tweet_url</th>\n",
       "      <th>tweet_text</th>\n",
       "      <th>tweet_id</th>\n",
       "      <th>is_hateful</th>\n",
       "      <th>is_racist</th>\n",
       "      <th>is_sexist</th>\n",
       "      <th>is_homophobe</th>\n",
       "      <th>is_religion</th>\n",
       "      <th>is_other_hate</th>\n",
       "    </tr>\n",
       "  </thead>\n",
       "  <tbody>\n",
       "    <tr>\n",
       "      <th>0</th>\n",
       "      <td>http://pbs.twimg.com/tweet_video_thumb/D3gi9MH...</td>\n",
       "      <td>https://twitter.com/user/status/11146793537140...</td>\n",
       "      <td>@FriskDontMiss Nigga https://t.co/cAsaLWEpue</td>\n",
       "      <td>1114679353714016256</td>\n",
       "      <td>True</td>\n",
       "      <td>True</td>\n",
       "      <td>False</td>\n",
       "      <td>True</td>\n",
       "      <td>True</td>\n",
       "      <td>False</td>\n",
       "    </tr>\n",
       "    <tr>\n",
       "      <th>1</th>\n",
       "      <td>http://pbs.twimg.com/ext_tw_video_thumb/106301...</td>\n",
       "      <td>https://twitter.com/user/status/10630200488166...</td>\n",
       "      <td>My horses are retarded https://t.co/HYhqc6d5WN</td>\n",
       "      <td>1063020048816660480</td>\n",
       "      <td>True</td>\n",
       "      <td>False</td>\n",
       "      <td>False</td>\n",
       "      <td>False</td>\n",
       "      <td>False</td>\n",
       "      <td>True</td>\n",
       "    </tr>\n",
       "    <tr>\n",
       "      <th>2</th>\n",
       "      <td>http://pbs.twimg.com/media/D2OzhzHUwAADQjd.jpg</td>\n",
       "      <td>https://twitter.com/user/status/11089273680753...</td>\n",
       "      <td>“NIGGA ON MA MOMMA YOUNGBOY BE SPITTING REAL S...</td>\n",
       "      <td>1108927368075374593</td>\n",
       "      <td>True</td>\n",
       "      <td>False</td>\n",
       "      <td>False</td>\n",
       "      <td>False</td>\n",
       "      <td>False</td>\n",
       "      <td>False</td>\n",
       "    </tr>\n",
       "    <tr>\n",
       "      <th>3</th>\n",
       "      <td>http://pbs.twimg.com/ext_tw_video_thumb/111401...</td>\n",
       "      <td>https://twitter.com/user/status/11145585346356...</td>\n",
       "      <td>RT xxSuGVNGxx: I ran into this HOLY NIGGA TODA...</td>\n",
       "      <td>1114558534635618305</td>\n",
       "      <td>True</td>\n",
       "      <td>True</td>\n",
       "      <td>False</td>\n",
       "      <td>False</td>\n",
       "      <td>False</td>\n",
       "      <td>False</td>\n",
       "    </tr>\n",
       "    <tr>\n",
       "      <th>4</th>\n",
       "      <td>http://pbs.twimg.com/media/Dl30pGIU8AAVGxO.jpg</td>\n",
       "      <td>https://twitter.com/user/status/10352524802155...</td>\n",
       "      <td>“EVERYbody calling you Nigger now!” https://t....</td>\n",
       "      <td>1035252480215592966</td>\n",
       "      <td>True</td>\n",
       "      <td>True</td>\n",
       "      <td>False</td>\n",
       "      <td>False</td>\n",
       "      <td>False</td>\n",
       "      <td>False</td>\n",
       "    </tr>\n",
       "  </tbody>\n",
       "</table>\n",
       "</div>"
      ],
      "text/plain": [
       "                                             img_url  \\\n",
       "0  http://pbs.twimg.com/tweet_video_thumb/D3gi9MH...   \n",
       "1  http://pbs.twimg.com/ext_tw_video_thumb/106301...   \n",
       "2     http://pbs.twimg.com/media/D2OzhzHUwAADQjd.jpg   \n",
       "3  http://pbs.twimg.com/ext_tw_video_thumb/111401...   \n",
       "4     http://pbs.twimg.com/media/Dl30pGIU8AAVGxO.jpg   \n",
       "\n",
       "                                           tweet_url  \\\n",
       "0  https://twitter.com/user/status/11146793537140...   \n",
       "1  https://twitter.com/user/status/10630200488166...   \n",
       "2  https://twitter.com/user/status/11089273680753...   \n",
       "3  https://twitter.com/user/status/11145585346356...   \n",
       "4  https://twitter.com/user/status/10352524802155...   \n",
       "\n",
       "                                          tweet_text             tweet_id  \\\n",
       "0       @FriskDontMiss Nigga https://t.co/cAsaLWEpue  1114679353714016256   \n",
       "1     My horses are retarded https://t.co/HYhqc6d5WN  1063020048816660480   \n",
       "2  “NIGGA ON MA MOMMA YOUNGBOY BE SPITTING REAL S...  1108927368075374593   \n",
       "3  RT xxSuGVNGxx: I ran into this HOLY NIGGA TODA...  1114558534635618305   \n",
       "4  “EVERYbody calling you Nigger now!” https://t....  1035252480215592966   \n",
       "\n",
       "   is_hateful  is_racist  is_sexist  is_homophobe  is_religion  is_other_hate  \n",
       "0        True       True      False          True         True          False  \n",
       "1        True      False      False         False        False           True  \n",
       "2        True      False      False         False        False          False  \n",
       "3        True       True      False         False        False          False  \n",
       "4        True       True      False         False        False          False  "
      ]
     },
     "execution_count": 36,
     "metadata": {},
     "output_type": "execute_result"
    }
   ],
   "source": [
    "df.head()"
   ]
  },
  {
   "cell_type": "code",
   "execution_count": 32,
   "metadata": {},
   "outputs": [
    {
     "data": {
      "text/plain": [
       "'http://pbs.twimg.com/tweet_video_thumb/D3gi9MHWAAAgfl7.jpg'"
      ]
     },
     "execution_count": 32,
     "metadata": {},
     "output_type": "execute_result"
    }
   ],
   "source": [
    "# for each row, create the sample with the image from img_resized and the image text form img_txt\n",
    "df[\"img_url\"][0]"
   ]
  },
  {
   "cell_type": "markdown",
   "metadata": {},
   "source": [
    "Input Representation:\n",
    "\n",
    "- For the text: Use word embeddings like Word2Vec, GloVe, or FastText to represent each word in the tweet text.\n",
    "- For the meme: Convert the image into a format that the model can understand, such as pixel values or feature vectors extracted using techniques like Convolutional Neural Networks (CNNs) or pre-trained models like VGG, ResNet, or Inception."
   ]
  },
  {
   "cell_type": "code",
   "execution_count": null,
   "metadata": {},
   "outputs": [],
   "source": []
  }
 ],
 "metadata": {
  "kernelspec": {
   "display_name": "Python 3",
   "language": "python",
   "name": "python3"
  },
  "language_info": {
   "codemirror_mode": {
    "name": "ipython",
    "version": 3
   },
   "file_extension": ".py",
   "mimetype": "text/x-python",
   "name": "python",
   "nbconvert_exporter": "python",
   "pygments_lexer": "ipython3",
   "version": "3.11.7"
  }
 },
 "nbformat": 4,
 "nbformat_minor": 2
}
